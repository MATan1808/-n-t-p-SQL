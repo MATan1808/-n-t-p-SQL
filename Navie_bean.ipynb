{
  "nbformat": 4,
  "nbformat_minor": 0,
  "metadata": {
    "colab": {
      "provenance": [],
      "authorship_tag": "ABX9TyMgM8n662urC3n8y+ediN+V",
      "include_colab_link": true
    },
    "kernelspec": {
      "name": "python3",
      "display_name": "Python 3"
    },
    "language_info": {
      "name": "python"
    }
  },
  "cells": [
    {
      "cell_type": "markdown",
      "metadata": {
        "id": "view-in-github",
        "colab_type": "text"
      },
      "source": [
        "<a href=\"https://colab.research.google.com/github/MATan1808/-n-t-p-SQL/blob/main/Navie_bean.ipynb\" target=\"_parent\"><img src=\"https://colab.research.google.com/assets/colab-badge.svg\" alt=\"Open In Colab\"/></a>"
      ]
    },
    {
      "cell_type": "code",
      "execution_count": null,
      "metadata": {
        "id": "AloGiIVfQaXy"
      },
      "outputs": [],
      "source": [
        "import pandas as pd\n",
        "from sklearn.model_selection import train_test_split\n",
        "from sklearn.naive_bayes import GaussianNB\n",
        "from sklearn.metrics import confusion_matrix, accuracy_score\n",
        "from sklearn.model_selection import cross_val_score\n",
        "from sklearn.metrics import classification_report, confusion_matrix\n",
        "import numpy as np"
      ]
    },
    {
      "cell_type": "code",
      "source": [
        "filepath='/content/sample_data/Dry_Bean_Dataset.xlsx'"
      ],
      "metadata": {
        "id": "vTD1WOH7Qh7W"
      },
      "execution_count": null,
      "outputs": []
    },
    {
      "cell_type": "code",
      "source": [
        "\n",
        "# Load data\n",
        "data = pd.read_excel(filepath)"
      ],
      "metadata": {
        "id": "U0fjZUTMQosp"
      },
      "execution_count": null,
      "outputs": []
    },
    {
      "cell_type": "code",
      "source": [
        "# Print the column names\n",
        "print(data.columns)"
      ],
      "metadata": {
        "colab": {
          "base_uri": "https://localhost:8080/"
        },
        "id": "wQiEN9hCQrZD",
        "outputId": "14588aac-e49f-49c9-f55d-d163ab7597ae"
      },
      "execution_count": null,
      "outputs": [
        {
          "output_type": "stream",
          "name": "stdout",
          "text": [
            "Index(['Area', 'Perimeter', 'MajorAxisLength', 'MinorAxisLength',\n",
            "       'AspectRation', 'Eccentricity', 'ConvexArea', 'EquivDiameter', 'Extent',\n",
            "       'Solidity', 'roundness', 'Compactness', 'ShapeFactor1', 'ShapeFactor2',\n",
            "       'ShapeFactor3', 'ShapeFactor4', 'Class'],\n",
            "      dtype='object')\n"
          ]
        }
      ]
    },
    {
      "cell_type": "code",
      "source": [
        "# Kiểm tra thông tin cơ bản về tập dữ liệu\n",
        "info = data.info()"
      ],
      "metadata": {
        "colab": {
          "base_uri": "https://localhost:8080/"
        },
        "id": "3k7sAAWYy4sc",
        "outputId": "10f4dcd3-4b4a-4b04-f821-96004a649ddf"
      },
      "execution_count": null,
      "outputs": [
        {
          "output_type": "stream",
          "name": "stdout",
          "text": [
            "<class 'pandas.core.frame.DataFrame'>\n",
            "RangeIndex: 13611 entries, 0 to 13610\n",
            "Data columns (total 17 columns):\n",
            " #   Column           Non-Null Count  Dtype  \n",
            "---  ------           --------------  -----  \n",
            " 0   Area             13611 non-null  int64  \n",
            " 1   Perimeter        13611 non-null  float64\n",
            " 2   MajorAxisLength  13611 non-null  float64\n",
            " 3   MinorAxisLength  13611 non-null  float64\n",
            " 4   AspectRation     13611 non-null  float64\n",
            " 5   Eccentricity     13611 non-null  float64\n",
            " 6   ConvexArea       13611 non-null  int64  \n",
            " 7   EquivDiameter    13611 non-null  float64\n",
            " 8   Extent           13611 non-null  float64\n",
            " 9   Solidity         13611 non-null  float64\n",
            " 10  roundness        13611 non-null  float64\n",
            " 11  Compactness      13611 non-null  float64\n",
            " 12  ShapeFactor1     13611 non-null  float64\n",
            " 13  ShapeFactor2     13611 non-null  float64\n",
            " 14  ShapeFactor3     13611 non-null  float64\n",
            " 15  ShapeFactor4     13611 non-null  float64\n",
            " 16  Class            13611 non-null  object \n",
            "dtypes: float64(14), int64(2), object(1)\n",
            "memory usage: 1.8+ MB\n"
          ]
        }
      ]
    },
    {
      "cell_type": "code",
      "source": [
        "# Kiểm tra xem có dữ liệu nào bị thiếu không\n",
        "missing_values = data.isnull().sum()\n",
        "\n",
        "info, missing_values"
      ],
      "metadata": {
        "colab": {
          "base_uri": "https://localhost:8080/"
        },
        "id": "KV5gmrYGzMyz",
        "outputId": "f4d868f3-e70e-40fb-a3a6-230c01ef1586"
      },
      "execution_count": null,
      "outputs": [
        {
          "output_type": "execute_result",
          "data": {
            "text/plain": [
              "(None,\n",
              " Area               0\n",
              " Perimeter          0\n",
              " MajorAxisLength    0\n",
              " MinorAxisLength    0\n",
              " AspectRation       0\n",
              " Eccentricity       0\n",
              " ConvexArea         0\n",
              " EquivDiameter      0\n",
              " Extent             0\n",
              " Solidity           0\n",
              " roundness          0\n",
              " Compactness        0\n",
              " ShapeFactor1       0\n",
              " ShapeFactor2       0\n",
              " ShapeFactor3       0\n",
              " ShapeFactor4       0\n",
              " Class              0\n",
              " dtype: int64)"
            ]
          },
          "metadata": {},
          "execution_count": 19
        }
      ]
    },
    {
      "cell_type": "code",
      "source": [
        "# Xác định các loại đậu khác nhau trong tập dữ liệu\n",
        "unique_bean_classes = data['Class'].unique()\n",
        "unique_bean_classes\n"
      ],
      "metadata": {
        "colab": {
          "base_uri": "https://localhost:8080/"
        },
        "id": "fh-7WnkKu1eQ",
        "outputId": "89c6a47f-b7af-472b-ad5b-d839f64cf518"
      },
      "execution_count": null,
      "outputs": [
        {
          "output_type": "execute_result",
          "data": {
            "text/plain": [
              "array(['SEKER', 'BARBUNYA', 'BOMBAY', 'CALI', 'HOROZ', 'SIRA', 'DERMASON'],\n",
              "      dtype=object)"
            ]
          },
          "metadata": {},
          "execution_count": 20
        }
      ]
    },
    {
      "cell_type": "markdown",
      "source": [
        "# Phân Tích Thống Kê Cơ Bản"
      ],
      "metadata": {
        "id": "XzrzdzNsz6To"
      }
    },
    {
      "cell_type": "markdown",
      "source": [
        "# Đặc điểm của các loại đậu"
      ],
      "metadata": {
        "id": "J3BY2xSXEQ3t"
      }
    },
    {
      "cell_type": "code",
      "source": [
        "# Tạo một từ điển để lưu trữ kết quả phân tích cho mỗi loại đậu\n",
        "ket_qua_phat_tich_moi = {}\n",
        "\n",
        "# Xác định các loại đậu khác nhau trong tập dữ liệu\n",
        "cac_loai_dau_moi = data['Class'].unique()\n",
        "\n",
        "# Lặp qua mỗi loại đậu và thực hiện phân tích\n",
        "for loai_dau in cac_loai_dau_moi:\n",
        "    # Lọc dữ liệu cho loại đậu cụ thể\n",
        "    du_lieu_cu_the_moi = data[data['Class'] == loai_dau]\n",
        "\n",
        "    # Tính toán thống kê cơ bản cho mỗi đặc trưng\n",
        "    ket_qua_phat_tich_moi_dau = du_lieu_cu_the_moi.describe()\n",
        "\n",
        "    # Lưu trữ kết quả vào từ điển\n",
        "    ket_qua_phat_tich_moi[loai_dau] = ket_qua_phat_tich_moi_dau\n",
        "\n",
        "# Chuẩn bị để hiển thị kết quả phân tích cho mỗi loại đậu\n",
        "ket_qua_phat_tich_loai_moi = [(loai_dau, thong_ke) for loai_dau, thong_ke in ket_qua_phat_tich_moi.items()]\n",
        "ket_qua_phat_tich_loai_moi[:2]  # Hiển thị kết quả phân tích cho hai loại đậu đầu tiên để ngắn gọn\n"
      ],
      "metadata": {
        "colab": {
          "base_uri": "https://localhost:8080/"
        },
        "id": "DvGaBWQkx9I5",
        "outputId": "54800f54-53f8-415e-e929-653b49a248fb"
      },
      "execution_count": null,
      "outputs": [
        {
          "output_type": "execute_result",
          "data": {
            "text/plain": [
              "[('SEKER',\n",
              "                 Area    Perimeter  MajorAxisLength  MinorAxisLength  \\\n",
              "  count   2027.000000  2027.000000      2027.000000      2027.000000   \n",
              "  mean   39881.299951   727.672440       251.291957       201.909653   \n",
              "  std     4779.877395    47.849014        19.969504        10.942797   \n",
              "  min    28395.000000   610.291000       200.524796       171.210559   \n",
              "  25%    36408.000000   692.948500       237.037081       193.919169   \n",
              "  50%    39180.000000   721.292000       249.152044       200.432810   \n",
              "  75%    42700.000000   755.011500       262.802106       208.745418   \n",
              "  max    61150.000000   933.372000       339.931533       252.287649   \n",
              "  \n",
              "         AspectRation  Eccentricity    ConvexArea  EquivDiameter       Extent  \\\n",
              "  count   2027.000000   2027.000000   2027.000000    2027.000000  2027.000000   \n",
              "  mean       1.245182      0.584781  40269.567341     224.948441     0.771674   \n",
              "  std        0.082223      0.071265   4823.866621      13.294146     0.018828   \n",
              "  min        1.024868      0.218951  28715.000000     190.141097     0.671871   \n",
              "  25%        1.191768      0.543994  36757.500000     215.304680     0.759973   \n",
              "  50%        1.236241      0.587941  39539.000000     223.350678     0.774202   \n",
              "  75%        1.287217      0.629662  43072.000000     233.168026     0.784772   \n",
              "  max        1.679979      0.803544  61640.000000     279.031536     0.826104   \n",
              "  \n",
              "            Solidity    roundness  Compactness  ShapeFactor1  ShapeFactor2  \\\n",
              "  count  2027.000000  2027.000000  2027.000000   2027.000000   2027.000000   \n",
              "  mean      0.990351     0.944508     0.896841      0.006334      0.002541   \n",
              "  std       0.002993     0.032158     0.028727      0.000335      0.000326   \n",
              "  min       0.919246     0.595048     0.770126      0.005056      0.001405   \n",
              "  25%       0.989487     0.935500     0.880651      0.006110      0.002339   \n",
              "  50%       0.990936     0.951697     0.898746      0.006363      0.002539   \n",
              "  75%       0.991938     0.962898     0.915360      0.006575      0.002747   \n",
              "  max       0.994213     0.990685     0.987303      0.007474      0.003665   \n",
              "  \n",
              "         ShapeFactor3  ShapeFactor4  \n",
              "  count   2027.000000   2027.000000  \n",
              "  mean       0.805149      0.998383  \n",
              "  std        0.051125      0.001493  \n",
              "  min        0.593094      0.947687  \n",
              "  25%        0.775546      0.998082  \n",
              "  50%        0.807744      0.998633  \n",
              "  75%        0.837884      0.999014  \n",
              "  max        0.974767      0.999733  ),\n",
              " ('BARBUNYA',\n",
              "                  Area    Perimeter  MajorAxisLength  MinorAxisLength  \\\n",
              "  count    1322.000000  1322.000000      1322.000000      1322.000000   \n",
              "  mean    69804.133132  1046.105764       370.044279       240.309352   \n",
              "  std     10265.386454    89.629646        32.262810        19.840274   \n",
              "  min     41487.000000   759.552000       266.700396       177.081490   \n",
              "  25%     62931.000000   989.129000       348.667361       227.466279   \n",
              "  50%     69582.000000  1045.060000       369.630015       239.721849   \n",
              "  75%     76306.500000  1103.847250       392.835276       253.241440   \n",
              "  max    115967.000000  1359.763000       483.691256       331.305270   \n",
              "  \n",
              "         AspectRation  Eccentricity     ConvexArea  EquivDiameter       Extent  \\\n",
              "  count   1322.000000   1322.000000    1322.000000    1322.000000  1322.000000   \n",
              "  mean       1.544395      0.754665   71025.729198     297.311018     0.749273   \n",
              "  std        0.126057      0.050105   10445.254083      21.997899     0.040439   \n",
              "  min        1.135792      0.474152   42005.000000     229.832306     0.639787   \n",
              "  25%        1.460421      0.728793   64037.750000     283.065783     0.716015   \n",
              "  50%        1.547761      0.763257   70802.000000     297.648373     0.750701   \n",
              "  75%        1.629817      0.789644   77695.250000     311.699300     0.781876   \n",
              "  max        1.950371      0.858554  118497.000000     384.257427     0.840577   \n",
              "  \n",
              "            Solidity    roundness  Compactness  ShapeFactor1  ShapeFactor2  \\\n",
              "  count  1322.000000  1322.000000  1322.000000   1322.000000   1322.000000   \n",
              "  mean      0.982804     0.800200     0.805001      0.005357      0.001394   \n",
              "  std       0.004067     0.048512     0.033447      0.000445      0.000213   \n",
              "  min       0.961840     0.593708     0.714494      0.003876      0.000843   \n",
              "  25%       0.980619     0.773188     0.781881      0.005055      0.001241   \n",
              "  50%       0.983086     0.803159     0.802363      0.005334      0.001369   \n",
              "  75%       0.985492     0.835017     0.825809      0.005620      0.001522   \n",
              "  max       0.992549     0.931959     0.937007      0.007208      0.002433   \n",
              "  \n",
              "         ShapeFactor3  ShapeFactor4  \n",
              "  count   1322.000000   1322.000000  \n",
              "  mean       0.649144      0.995739  \n",
              "  std        0.054347      0.002649  \n",
              "  min        0.510502      0.976512  \n",
              "  25%        0.611338      0.994686  \n",
              "  50%        0.643787      0.996370  \n",
              "  75%        0.681961      0.997507  \n",
              "  max        0.877981      0.999351  )]"
            ]
          },
          "metadata": {},
          "execution_count": 21
        }
      ]
    },
    {
      "cell_type": "markdown",
      "source": [
        "dựa vào đặc điểm của từng loại đậu sẽ ss lại những loại đậu trong nhãn dán\n",
        "ARBUNYA: Loại đậu này có diện tích (Area) trung bình là khoảng 69804, với độ lệch chuẩn không quá cao, cho thấy sự ổn định trong kích thước. Chu vi (Perimeter) và các đặc trưng liên quan cũng có giá trị tương ứng. Điều này có thể giúp phân biệt BARBUNYA với các loại đậu khác.\n",
        "\n",
        "BOMBAY: BOMBAY có diện tích và chu vi thấp hơn so với BARBUNYA. Đặc biệt, diện tích (Area) thấp hơn và chu vi (Perimeter) cũng thấp hơn. Điều này làm cho BOMBAY có hình dáng tròn hơn so với BARBUNYA.\n",
        "\n",
        "CALI: CALI có diện tích (Area) cao hơn so với BARBUNYA và BOMBAY. Điều này cho thấy CALI thường có kích thước lớn hơn. Chu vi (Perimeter) và các đặc trưng khác cũng cao hơn.\n",
        "\n",
        "DERMASON: DERMASON có diện tích và chu vi lớn nhất trong số tất cả các loại đậu. Điều này cho thấy DERMASON có hình dáng lớn và phức tạp hơn so với các loại đậu khác.\n",
        "\n",
        "HOROZ: HOROZ có diện tích và chu vi trung bình, tương đối giống với BARBUNYA. Tuy nhiên, các đặc trưng khác có thể khác biệt và cần được xem xét.\n",
        "\n",
        "SEKER: SEKER có diện tích (Area) thấp hơn so với BARBUNYA và BOMBAY, nhưng cao hơn HOROZ. Chu vi (Perimeter) và các đặc trưng khác có thể giúp phân biệt SEKER với các loại đậu khác.\n",
        "\n",
        "SIRA: SIRA có diện tích và chu vi lớn, tương tự như CALI và DERMASON. Điều này có thể gây hiểu nhầm giữa các loại đậu lớn."
      ],
      "metadata": {
        "id": "qp_JYuxYFCvX"
      }
    },
    {
      "cell_type": "markdown",
      "source": [
        "**Tổng kết các đặc điểm của từng loại đậu :**\n",
        "\n",
        "BARBUNYA: Đậu này có kích thước trung bình, không quá lớn hoặc nhỏ. Diện tích và chu vi ổn định.\n",
        "\n",
        "BOMBAY: BOMBAY có diện tích nhỏ hơn và hình dáng tròn hơn so với BARBUNYA.\n",
        "\n",
        "CALI: CALI thường có kích thước lớn hơn, với diện tích và chu vi cao hơn so với BARBUNYA.\n",
        "\n",
        "DERMASON: DERMASON là loại đậu có kích thước lớn nhất, với diện tích và chu vi cao. Đậu này có hình dáng phức tạp.\n",
        "\n",
        "HOROZ: HOROZ có diện tích và chu vi tương đối trung bình, giống với BARBUNYA.\n",
        "\n",
        "SEKER: SEKER có diện tích nhỏ hơn so với BARBUNYA và BOMBAY, nhưng cao hơn HOROZ.\n",
        "\n",
        "SIRA: SIRA có diện tích và chu vi lớn, tương tự như CALI và DERMASON."
      ],
      "metadata": {
        "id": "lFBZ_RDeF3Xo"
      }
    },
    {
      "cell_type": "markdown",
      "source": [
        "# **Navie Bayes**"
      ],
      "metadata": {
        "id": "Iqh1Zj6hQxDo"
      }
    },
    {
      "cell_type": "markdown",
      "source": [
        "**Đặc Trưng của các loại đậu**"
      ],
      "metadata": {
        "id": "wivV6TaBSfqH"
      }
    },
    {
      "cell_type": "code",
      "source": [
        "#Tính Tổng Giá Trị cho Tất Cả Đặc Trưng của Mỗi Loại Đậu\n",
        "total_values_per_class = data.groupby('Class').sum()\n",
        "print(total_values_per_class)\n"
      ],
      "metadata": {
        "colab": {
          "base_uri": "https://localhost:8080/"
        },
        "id": "moarW5K6Q3fW",
        "outputId": "c11c73e2-5961-4887-d7ff-47329c967bf4"
      },
      "execution_count": null,
      "outputs": [
        {
          "output_type": "stream",
          "name": "stdout",
          "text": [
            "               Area    Perimeter  MajorAxisLength  MinorAxisLength  \\\n",
            "Class                                                                \n",
            "BARBUNYA   92281064  1382951.820    489198.537357    317688.963461   \n",
            "BOMBAY     90559201   827693.159    309625.382957    195412.029489   \n",
            "CALI      123127284  1723943.879    667484.247679    385284.104492   \n",
            "DERMASON  113892949  2358833.014    874292.111017    587420.229215   \n",
            "HOROZ     103434325  1773489.455    718315.519261    355081.037994   \n",
            "SEKER      80839395  1474992.036    509368.797550    409270.866258   \n",
            "SIRA      117905983  2099359.792    789166.360045    502949.458468   \n",
            "\n",
            "          AspectRation  Eccentricity  ConvexArea  EquivDiameter       Extent  \\\n",
            "Class                                                                          \n",
            "BARBUNYA   2041.689750    997.666614    93896014  393045.165189   990.538497   \n",
            "BOMBAY      827.657079    402.210508    91774447  244787.424526   405.363765   \n",
            "CALI       2825.870743   1328.131100   125002260  504542.506880  1237.093618   \n",
            "DERMASON   5285.209897   2612.097734   115239451  715170.801037  2669.971755   \n",
            "HOROZ      3906.357620   1672.430276   104960497  502688.817662  1361.925114   \n",
            "SEKER      2523.983664   1185.351591    81626413  455970.489664  1564.183862   \n",
            "SIRA       4138.737822   2022.543061   119339891  628251.892440  1975.536358   \n",
            "\n",
            "             Solidity    roundness  Compactness  ShapeFactor1  ShapeFactor2  \\\n",
            "Class                                                                         \n",
            "BARBUNYA  1299.266936  1057.864984  1064.211087      7.082548      1.842862   \n",
            "BOMBAY     515.162693   451.227694   413.748455      1.796785      0.440739   \n",
            "CALI      1605.583832  1378.873114  1233.426019      8.897662      1.805051   \n",
            "DERMASON  3504.249597  3220.171716  2904.564199     27.498703      7.662118   \n",
            "HOROZ     1900.006116  1531.641877  1351.297523     13.508760      2.019647   \n",
            "SEKER     2007.440820  1914.516958  1817.896768     12.839592      5.149895   \n",
            "SIRA      2604.291250  2331.942663  2101.800522     17.713225      4.435447   \n",
            "\n",
            "          ShapeFactor3  ShapeFactor4  \n",
            "Class                                 \n",
            "BARBUNYA    858.168616   1316.367592  \n",
            "BOMBAY      328.439581    517.740910  \n",
            "CALI        934.026140   1614.651209  \n",
            "DERMASON   2381.621846   3535.057042  \n",
            "HOROZ       948.173071   1912.434144  \n",
            "SEKER      1632.036373   2023.721799  \n",
            "SIRA       1677.440330   2623.834041  \n"
          ]
        }
      ]
    },
    {
      "cell_type": "code",
      "source": [
        "#Tính giá trị trung bình cho tất cả các đặc trưng cho mỗi loại đậu trong dataset\n",
        "mean_values_per_class = data.groupby('Class').mean()\n",
        "mean_values_per_class"
      ],
      "metadata": {
        "id": "7mP_kZYKR_Iy",
        "colab": {
          "base_uri": "https://localhost:8080/",
          "height": 320
        },
        "outputId": "608cd340-41b4-4a7b-d9a8-b59b2aa362b3"
      },
      "execution_count": null,
      "outputs": [
        {
          "output_type": "execute_result",
          "data": {
            "text/plain": [
              "                   Area    Perimeter  MajorAxisLength  MinorAxisLength  \\\n",
              "Class                                                                    \n",
              "BARBUNYA   69804.133132  1046.105764       370.044279       240.309352   \n",
              "BOMBAY    173485.059387  1585.619079       593.152075       374.352547   \n",
              "CALI       75538.211043  1057.634282       409.499538       236.370616   \n",
              "DERMASON   32118.710942   665.209536       246.557279       165.657143   \n",
              "HOROZ      53648.508817   919.859676       372.570290       184.170663   \n",
              "SEKER      39881.299951   727.672440       251.291957       201.909653   \n",
              "SIRA       44729.128604   796.418737       299.380258       190.800250   \n",
              "\n",
              "          AspectRation  Eccentricity     ConvexArea  EquivDiameter    Extent  \\\n",
              "Class                                                                          \n",
              "BARBUNYA      1.544395      0.754665   71025.729198     297.311018  0.749273   \n",
              "BOMBAY        1.585550      0.770518  175813.116858     468.941426  0.776559   \n",
              "CALI          1.733663      0.814804   76688.503067     309.535280  0.758953   \n",
              "DERMASON      1.490471      0.736632   32498.435138     201.683813  0.752953   \n",
              "HOROZ         2.026119      0.867443   54440.091805     260.730715  0.706393   \n",
              "SEKER         1.245182      0.584781   40269.567341     224.948441  0.771674   \n",
              "SIRA          1.570083      0.767277   45273.099772     238.335316  0.749445   \n",
              "\n",
              "          Solidity  roundness  Compactness  ShapeFactor1  ShapeFactor2  \\\n",
              "Class                                                                    \n",
              "BARBUNYA  0.982804   0.800200     0.805001      0.005357      0.001394   \n",
              "BOMBAY    0.986902   0.864421     0.792622      0.003442      0.000844   \n",
              "CALI      0.985021   0.845934     0.756703      0.005459      0.001107   \n",
              "DERMASON  0.988226   0.908114     0.819110      0.007755      0.002161   \n",
              "HOROZ     0.985480   0.794420     0.700880      0.007007      0.001048   \n",
              "SEKER     0.990351   0.944508     0.896841      0.006334      0.002541   \n",
              "SIRA      0.987971   0.884652     0.797345      0.006720      0.001683   \n",
              "\n",
              "          ShapeFactor3  ShapeFactor4  \n",
              "Class                                 \n",
              "BARBUNYA      0.649144      0.995739  \n",
              "BOMBAY        0.629195      0.991841  \n",
              "CALI          0.573022      0.990584  \n",
              "DERMASON      0.671636      0.996914  \n",
              "HOROZ         0.491791      0.991926  \n",
              "SEKER         0.805149      0.998383  \n",
              "SIRA          0.636358      0.995385  "
            ],
            "text/html": [
              "\n",
              "  <div id=\"df-849aff49-109d-4f44-9586-c12491972cc9\" class=\"colab-df-container\">\n",
              "    <div>\n",
              "<style scoped>\n",
              "    .dataframe tbody tr th:only-of-type {\n",
              "        vertical-align: middle;\n",
              "    }\n",
              "\n",
              "    .dataframe tbody tr th {\n",
              "        vertical-align: top;\n",
              "    }\n",
              "\n",
              "    .dataframe thead th {\n",
              "        text-align: right;\n",
              "    }\n",
              "</style>\n",
              "<table border=\"1\" class=\"dataframe\">\n",
              "  <thead>\n",
              "    <tr style=\"text-align: right;\">\n",
              "      <th></th>\n",
              "      <th>Area</th>\n",
              "      <th>Perimeter</th>\n",
              "      <th>MajorAxisLength</th>\n",
              "      <th>MinorAxisLength</th>\n",
              "      <th>AspectRation</th>\n",
              "      <th>Eccentricity</th>\n",
              "      <th>ConvexArea</th>\n",
              "      <th>EquivDiameter</th>\n",
              "      <th>Extent</th>\n",
              "      <th>Solidity</th>\n",
              "      <th>roundness</th>\n",
              "      <th>Compactness</th>\n",
              "      <th>ShapeFactor1</th>\n",
              "      <th>ShapeFactor2</th>\n",
              "      <th>ShapeFactor3</th>\n",
              "      <th>ShapeFactor4</th>\n",
              "    </tr>\n",
              "    <tr>\n",
              "      <th>Class</th>\n",
              "      <th></th>\n",
              "      <th></th>\n",
              "      <th></th>\n",
              "      <th></th>\n",
              "      <th></th>\n",
              "      <th></th>\n",
              "      <th></th>\n",
              "      <th></th>\n",
              "      <th></th>\n",
              "      <th></th>\n",
              "      <th></th>\n",
              "      <th></th>\n",
              "      <th></th>\n",
              "      <th></th>\n",
              "      <th></th>\n",
              "      <th></th>\n",
              "    </tr>\n",
              "  </thead>\n",
              "  <tbody>\n",
              "    <tr>\n",
              "      <th>BARBUNYA</th>\n",
              "      <td>69804.133132</td>\n",
              "      <td>1046.105764</td>\n",
              "      <td>370.044279</td>\n",
              "      <td>240.309352</td>\n",
              "      <td>1.544395</td>\n",
              "      <td>0.754665</td>\n",
              "      <td>71025.729198</td>\n",
              "      <td>297.311018</td>\n",
              "      <td>0.749273</td>\n",
              "      <td>0.982804</td>\n",
              "      <td>0.800200</td>\n",
              "      <td>0.805001</td>\n",
              "      <td>0.005357</td>\n",
              "      <td>0.001394</td>\n",
              "      <td>0.649144</td>\n",
              "      <td>0.995739</td>\n",
              "    </tr>\n",
              "    <tr>\n",
              "      <th>BOMBAY</th>\n",
              "      <td>173485.059387</td>\n",
              "      <td>1585.619079</td>\n",
              "      <td>593.152075</td>\n",
              "      <td>374.352547</td>\n",
              "      <td>1.585550</td>\n",
              "      <td>0.770518</td>\n",
              "      <td>175813.116858</td>\n",
              "      <td>468.941426</td>\n",
              "      <td>0.776559</td>\n",
              "      <td>0.986902</td>\n",
              "      <td>0.864421</td>\n",
              "      <td>0.792622</td>\n",
              "      <td>0.003442</td>\n",
              "      <td>0.000844</td>\n",
              "      <td>0.629195</td>\n",
              "      <td>0.991841</td>\n",
              "    </tr>\n",
              "    <tr>\n",
              "      <th>CALI</th>\n",
              "      <td>75538.211043</td>\n",
              "      <td>1057.634282</td>\n",
              "      <td>409.499538</td>\n",
              "      <td>236.370616</td>\n",
              "      <td>1.733663</td>\n",
              "      <td>0.814804</td>\n",
              "      <td>76688.503067</td>\n",
              "      <td>309.535280</td>\n",
              "      <td>0.758953</td>\n",
              "      <td>0.985021</td>\n",
              "      <td>0.845934</td>\n",
              "      <td>0.756703</td>\n",
              "      <td>0.005459</td>\n",
              "      <td>0.001107</td>\n",
              "      <td>0.573022</td>\n",
              "      <td>0.990584</td>\n",
              "    </tr>\n",
              "    <tr>\n",
              "      <th>DERMASON</th>\n",
              "      <td>32118.710942</td>\n",
              "      <td>665.209536</td>\n",
              "      <td>246.557279</td>\n",
              "      <td>165.657143</td>\n",
              "      <td>1.490471</td>\n",
              "      <td>0.736632</td>\n",
              "      <td>32498.435138</td>\n",
              "      <td>201.683813</td>\n",
              "      <td>0.752953</td>\n",
              "      <td>0.988226</td>\n",
              "      <td>0.908114</td>\n",
              "      <td>0.819110</td>\n",
              "      <td>0.007755</td>\n",
              "      <td>0.002161</td>\n",
              "      <td>0.671636</td>\n",
              "      <td>0.996914</td>\n",
              "    </tr>\n",
              "    <tr>\n",
              "      <th>HOROZ</th>\n",
              "      <td>53648.508817</td>\n",
              "      <td>919.859676</td>\n",
              "      <td>372.570290</td>\n",
              "      <td>184.170663</td>\n",
              "      <td>2.026119</td>\n",
              "      <td>0.867443</td>\n",
              "      <td>54440.091805</td>\n",
              "      <td>260.730715</td>\n",
              "      <td>0.706393</td>\n",
              "      <td>0.985480</td>\n",
              "      <td>0.794420</td>\n",
              "      <td>0.700880</td>\n",
              "      <td>0.007007</td>\n",
              "      <td>0.001048</td>\n",
              "      <td>0.491791</td>\n",
              "      <td>0.991926</td>\n",
              "    </tr>\n",
              "    <tr>\n",
              "      <th>SEKER</th>\n",
              "      <td>39881.299951</td>\n",
              "      <td>727.672440</td>\n",
              "      <td>251.291957</td>\n",
              "      <td>201.909653</td>\n",
              "      <td>1.245182</td>\n",
              "      <td>0.584781</td>\n",
              "      <td>40269.567341</td>\n",
              "      <td>224.948441</td>\n",
              "      <td>0.771674</td>\n",
              "      <td>0.990351</td>\n",
              "      <td>0.944508</td>\n",
              "      <td>0.896841</td>\n",
              "      <td>0.006334</td>\n",
              "      <td>0.002541</td>\n",
              "      <td>0.805149</td>\n",
              "      <td>0.998383</td>\n",
              "    </tr>\n",
              "    <tr>\n",
              "      <th>SIRA</th>\n",
              "      <td>44729.128604</td>\n",
              "      <td>796.418737</td>\n",
              "      <td>299.380258</td>\n",
              "      <td>190.800250</td>\n",
              "      <td>1.570083</td>\n",
              "      <td>0.767277</td>\n",
              "      <td>45273.099772</td>\n",
              "      <td>238.335316</td>\n",
              "      <td>0.749445</td>\n",
              "      <td>0.987971</td>\n",
              "      <td>0.884652</td>\n",
              "      <td>0.797345</td>\n",
              "      <td>0.006720</td>\n",
              "      <td>0.001683</td>\n",
              "      <td>0.636358</td>\n",
              "      <td>0.995385</td>\n",
              "    </tr>\n",
              "  </tbody>\n",
              "</table>\n",
              "</div>\n",
              "    <div class=\"colab-df-buttons\">\n",
              "\n",
              "  <div class=\"colab-df-container\">\n",
              "    <button class=\"colab-df-convert\" onclick=\"convertToInteractive('df-849aff49-109d-4f44-9586-c12491972cc9')\"\n",
              "            title=\"Convert this dataframe to an interactive table.\"\n",
              "            style=\"display:none;\">\n",
              "\n",
              "  <svg xmlns=\"http://www.w3.org/2000/svg\" height=\"24px\" viewBox=\"0 -960 960 960\">\n",
              "    <path d=\"M120-120v-720h720v720H120Zm60-500h600v-160H180v160Zm220 220h160v-160H400v160Zm0 220h160v-160H400v160ZM180-400h160v-160H180v160Zm440 0h160v-160H620v160ZM180-180h160v-160H180v160Zm440 0h160v-160H620v160Z\"/>\n",
              "  </svg>\n",
              "    </button>\n",
              "\n",
              "  <style>\n",
              "    .colab-df-container {\n",
              "      display:flex;\n",
              "      gap: 12px;\n",
              "    }\n",
              "\n",
              "    .colab-df-convert {\n",
              "      background-color: #E8F0FE;\n",
              "      border: none;\n",
              "      border-radius: 50%;\n",
              "      cursor: pointer;\n",
              "      display: none;\n",
              "      fill: #1967D2;\n",
              "      height: 32px;\n",
              "      padding: 0 0 0 0;\n",
              "      width: 32px;\n",
              "    }\n",
              "\n",
              "    .colab-df-convert:hover {\n",
              "      background-color: #E2EBFA;\n",
              "      box-shadow: 0px 1px 2px rgba(60, 64, 67, 0.3), 0px 1px 3px 1px rgba(60, 64, 67, 0.15);\n",
              "      fill: #174EA6;\n",
              "    }\n",
              "\n",
              "    .colab-df-buttons div {\n",
              "      margin-bottom: 4px;\n",
              "    }\n",
              "\n",
              "    [theme=dark] .colab-df-convert {\n",
              "      background-color: #3B4455;\n",
              "      fill: #D2E3FC;\n",
              "    }\n",
              "\n",
              "    [theme=dark] .colab-df-convert:hover {\n",
              "      background-color: #434B5C;\n",
              "      box-shadow: 0px 1px 3px 1px rgba(0, 0, 0, 0.15);\n",
              "      filter: drop-shadow(0px 1px 2px rgba(0, 0, 0, 0.3));\n",
              "      fill: #FFFFFF;\n",
              "    }\n",
              "  </style>\n",
              "\n",
              "    <script>\n",
              "      const buttonEl =\n",
              "        document.querySelector('#df-849aff49-109d-4f44-9586-c12491972cc9 button.colab-df-convert');\n",
              "      buttonEl.style.display =\n",
              "        google.colab.kernel.accessAllowed ? 'block' : 'none';\n",
              "\n",
              "      async function convertToInteractive(key) {\n",
              "        const element = document.querySelector('#df-849aff49-109d-4f44-9586-c12491972cc9');\n",
              "        const dataTable =\n",
              "          await google.colab.kernel.invokeFunction('convertToInteractive',\n",
              "                                                    [key], {});\n",
              "        if (!dataTable) return;\n",
              "\n",
              "        const docLinkHtml = 'Like what you see? Visit the ' +\n",
              "          '<a target=\"_blank\" href=https://colab.research.google.com/notebooks/data_table.ipynb>data table notebook</a>'\n",
              "          + ' to learn more about interactive tables.';\n",
              "        element.innerHTML = '';\n",
              "        dataTable['output_type'] = 'display_data';\n",
              "        await google.colab.output.renderOutput(dataTable, element);\n",
              "        const docLink = document.createElement('div');\n",
              "        docLink.innerHTML = docLinkHtml;\n",
              "        element.appendChild(docLink);\n",
              "      }\n",
              "    </script>\n",
              "  </div>\n",
              "\n",
              "\n",
              "<div id=\"df-e32727f3-521e-4cb1-b29f-f4fd31e06971\">\n",
              "  <button class=\"colab-df-quickchart\" onclick=\"quickchart('df-e32727f3-521e-4cb1-b29f-f4fd31e06971')\"\n",
              "            title=\"Suggest charts\"\n",
              "            style=\"display:none;\">\n",
              "\n",
              "<svg xmlns=\"http://www.w3.org/2000/svg\" height=\"24px\"viewBox=\"0 0 24 24\"\n",
              "     width=\"24px\">\n",
              "    <g>\n",
              "        <path d=\"M19 3H5c-1.1 0-2 .9-2 2v14c0 1.1.9 2 2 2h14c1.1 0 2-.9 2-2V5c0-1.1-.9-2-2-2zM9 17H7v-7h2v7zm4 0h-2V7h2v10zm4 0h-2v-4h2v4z\"/>\n",
              "    </g>\n",
              "</svg>\n",
              "  </button>\n",
              "\n",
              "<style>\n",
              "  .colab-df-quickchart {\n",
              "      --bg-color: #E8F0FE;\n",
              "      --fill-color: #1967D2;\n",
              "      --hover-bg-color: #E2EBFA;\n",
              "      --hover-fill-color: #174EA6;\n",
              "      --disabled-fill-color: #AAA;\n",
              "      --disabled-bg-color: #DDD;\n",
              "  }\n",
              "\n",
              "  [theme=dark] .colab-df-quickchart {\n",
              "      --bg-color: #3B4455;\n",
              "      --fill-color: #D2E3FC;\n",
              "      --hover-bg-color: #434B5C;\n",
              "      --hover-fill-color: #FFFFFF;\n",
              "      --disabled-bg-color: #3B4455;\n",
              "      --disabled-fill-color: #666;\n",
              "  }\n",
              "\n",
              "  .colab-df-quickchart {\n",
              "    background-color: var(--bg-color);\n",
              "    border: none;\n",
              "    border-radius: 50%;\n",
              "    cursor: pointer;\n",
              "    display: none;\n",
              "    fill: var(--fill-color);\n",
              "    height: 32px;\n",
              "    padding: 0;\n",
              "    width: 32px;\n",
              "  }\n",
              "\n",
              "  .colab-df-quickchart:hover {\n",
              "    background-color: var(--hover-bg-color);\n",
              "    box-shadow: 0 1px 2px rgba(60, 64, 67, 0.3), 0 1px 3px 1px rgba(60, 64, 67, 0.15);\n",
              "    fill: var(--button-hover-fill-color);\n",
              "  }\n",
              "\n",
              "  .colab-df-quickchart-complete:disabled,\n",
              "  .colab-df-quickchart-complete:disabled:hover {\n",
              "    background-color: var(--disabled-bg-color);\n",
              "    fill: var(--disabled-fill-color);\n",
              "    box-shadow: none;\n",
              "  }\n",
              "\n",
              "  .colab-df-spinner {\n",
              "    border: 2px solid var(--fill-color);\n",
              "    border-color: transparent;\n",
              "    border-bottom-color: var(--fill-color);\n",
              "    animation:\n",
              "      spin 1s steps(1) infinite;\n",
              "  }\n",
              "\n",
              "  @keyframes spin {\n",
              "    0% {\n",
              "      border-color: transparent;\n",
              "      border-bottom-color: var(--fill-color);\n",
              "      border-left-color: var(--fill-color);\n",
              "    }\n",
              "    20% {\n",
              "      border-color: transparent;\n",
              "      border-left-color: var(--fill-color);\n",
              "      border-top-color: var(--fill-color);\n",
              "    }\n",
              "    30% {\n",
              "      border-color: transparent;\n",
              "      border-left-color: var(--fill-color);\n",
              "      border-top-color: var(--fill-color);\n",
              "      border-right-color: var(--fill-color);\n",
              "    }\n",
              "    40% {\n",
              "      border-color: transparent;\n",
              "      border-right-color: var(--fill-color);\n",
              "      border-top-color: var(--fill-color);\n",
              "    }\n",
              "    60% {\n",
              "      border-color: transparent;\n",
              "      border-right-color: var(--fill-color);\n",
              "    }\n",
              "    80% {\n",
              "      border-color: transparent;\n",
              "      border-right-color: var(--fill-color);\n",
              "      border-bottom-color: var(--fill-color);\n",
              "    }\n",
              "    90% {\n",
              "      border-color: transparent;\n",
              "      border-bottom-color: var(--fill-color);\n",
              "    }\n",
              "  }\n",
              "</style>\n",
              "\n",
              "  <script>\n",
              "    async function quickchart(key) {\n",
              "      const quickchartButtonEl =\n",
              "        document.querySelector('#' + key + ' button');\n",
              "      quickchartButtonEl.disabled = true;  // To prevent multiple clicks.\n",
              "      quickchartButtonEl.classList.add('colab-df-spinner');\n",
              "      try {\n",
              "        const charts = await google.colab.kernel.invokeFunction(\n",
              "            'suggestCharts', [key], {});\n",
              "      } catch (error) {\n",
              "        console.error('Error during call to suggestCharts:', error);\n",
              "      }\n",
              "      quickchartButtonEl.classList.remove('colab-df-spinner');\n",
              "      quickchartButtonEl.classList.add('colab-df-quickchart-complete');\n",
              "    }\n",
              "    (() => {\n",
              "      let quickchartButtonEl =\n",
              "        document.querySelector('#df-e32727f3-521e-4cb1-b29f-f4fd31e06971 button');\n",
              "      quickchartButtonEl.style.display =\n",
              "        google.colab.kernel.accessAllowed ? 'block' : 'none';\n",
              "    })();\n",
              "  </script>\n",
              "</div>\n",
              "\n",
              "  <div id=\"id_dd92cf40-f906-4920-8ca7-ecd734307639\">\n",
              "    <style>\n",
              "      .colab-df-generate {\n",
              "        background-color: #E8F0FE;\n",
              "        border: none;\n",
              "        border-radius: 50%;\n",
              "        cursor: pointer;\n",
              "        display: none;\n",
              "        fill: #1967D2;\n",
              "        height: 32px;\n",
              "        padding: 0 0 0 0;\n",
              "        width: 32px;\n",
              "      }\n",
              "\n",
              "      .colab-df-generate:hover {\n",
              "        background-color: #E2EBFA;\n",
              "        box-shadow: 0px 1px 2px rgba(60, 64, 67, 0.3), 0px 1px 3px 1px rgba(60, 64, 67, 0.15);\n",
              "        fill: #174EA6;\n",
              "      }\n",
              "\n",
              "      [theme=dark] .colab-df-generate {\n",
              "        background-color: #3B4455;\n",
              "        fill: #D2E3FC;\n",
              "      }\n",
              "\n",
              "      [theme=dark] .colab-df-generate:hover {\n",
              "        background-color: #434B5C;\n",
              "        box-shadow: 0px 1px 3px 1px rgba(0, 0, 0, 0.15);\n",
              "        filter: drop-shadow(0px 1px 2px rgba(0, 0, 0, 0.3));\n",
              "        fill: #FFFFFF;\n",
              "      }\n",
              "    </style>\n",
              "    <button class=\"colab-df-generate\" onclick=\"generateWithVariable('mean_values_per_class')\"\n",
              "            title=\"Generate code using this dataframe.\"\n",
              "            style=\"display:none;\">\n",
              "\n",
              "  <svg xmlns=\"http://www.w3.org/2000/svg\" height=\"24px\"viewBox=\"0 0 24 24\"\n",
              "       width=\"24px\">\n",
              "    <path d=\"M7,19H8.4L18.45,9,17,7.55,7,17.6ZM5,21V16.75L18.45,3.32a2,2,0,0,1,2.83,0l1.4,1.43a1.91,1.91,0,0,1,.58,1.4,1.91,1.91,0,0,1-.58,1.4L9.25,21ZM18.45,9,17,7.55Zm-12,3A5.31,5.31,0,0,0,4.9,8.1,5.31,5.31,0,0,0,1,6.5,5.31,5.31,0,0,0,4.9,4.9,5.31,5.31,0,0,0,6.5,1,5.31,5.31,0,0,0,8.1,4.9,5.31,5.31,0,0,0,12,6.5,5.46,5.46,0,0,0,6.5,12Z\"/>\n",
              "  </svg>\n",
              "    </button>\n",
              "    <script>\n",
              "      (() => {\n",
              "      const buttonEl =\n",
              "        document.querySelector('#id_dd92cf40-f906-4920-8ca7-ecd734307639 button.colab-df-generate');\n",
              "      buttonEl.style.display =\n",
              "        google.colab.kernel.accessAllowed ? 'block' : 'none';\n",
              "\n",
              "      buttonEl.onclick = () => {\n",
              "        google.colab.notebook.generateWithVariable('mean_values_per_class');\n",
              "      }\n",
              "      })();\n",
              "    </script>\n",
              "  </div>\n",
              "\n",
              "    </div>\n",
              "  </div>\n"
            ]
          },
          "metadata": {},
          "execution_count": 23
        }
      ]
    },
    {
      "cell_type": "markdown",
      "source": [
        "**Tiến Hành Kiểm Tra**"
      ],
      "metadata": {
        "id": "IGTFOOWJz86j"
      }
    },
    {
      "cell_type": "code",
      "source": [
        "# Chia dữ liệu thành tập huấn luyện và tập kiểm tra\n",
        "X = data.drop('Class', axis=1)  # Features\n",
        "y = data['Class']  # Target variable"
      ],
      "metadata": {
        "id": "dfI8BX870GZt"
      },
      "execution_count": null,
      "outputs": []
    },
    {
      "cell_type": "code",
      "source": [
        "# Tạo tập huấn luyện và tập kiểm tra\n",
        "X_train, X_test, y_train, y_test = train_test_split(X, y, test_size=0.2, random_state=42)"
      ],
      "metadata": {
        "id": "yY-L_hG-0IHh"
      },
      "execution_count": null,
      "outputs": []
    },
    {
      "cell_type": "code",
      "source": [
        "# Xây dựng mô hình Naive Bayes\n",
        "model = GaussianNB()\n",
        "model.fit(X_train, y_train)"
      ],
      "metadata": {
        "colab": {
          "base_uri": "https://localhost:8080/",
          "height": 75
        },
        "id": "WeyjttlZ0Ozt",
        "outputId": "bec54439-fc17-44ae-9784-351529749382"
      },
      "execution_count": null,
      "outputs": [
        {
          "output_type": "execute_result",
          "data": {
            "text/plain": [
              "GaussianNB()"
            ],
            "text/html": [
              "<style>#sk-container-id-1 {color: black;background-color: white;}#sk-container-id-1 pre{padding: 0;}#sk-container-id-1 div.sk-toggleable {background-color: white;}#sk-container-id-1 label.sk-toggleable__label {cursor: pointer;display: block;width: 100%;margin-bottom: 0;padding: 0.3em;box-sizing: border-box;text-align: center;}#sk-container-id-1 label.sk-toggleable__label-arrow:before {content: \"▸\";float: left;margin-right: 0.25em;color: #696969;}#sk-container-id-1 label.sk-toggleable__label-arrow:hover:before {color: black;}#sk-container-id-1 div.sk-estimator:hover label.sk-toggleable__label-arrow:before {color: black;}#sk-container-id-1 div.sk-toggleable__content {max-height: 0;max-width: 0;overflow: hidden;text-align: left;background-color: #f0f8ff;}#sk-container-id-1 div.sk-toggleable__content pre {margin: 0.2em;color: black;border-radius: 0.25em;background-color: #f0f8ff;}#sk-container-id-1 input.sk-toggleable__control:checked~div.sk-toggleable__content {max-height: 200px;max-width: 100%;overflow: auto;}#sk-container-id-1 input.sk-toggleable__control:checked~label.sk-toggleable__label-arrow:before {content: \"▾\";}#sk-container-id-1 div.sk-estimator input.sk-toggleable__control:checked~label.sk-toggleable__label {background-color: #d4ebff;}#sk-container-id-1 div.sk-label input.sk-toggleable__control:checked~label.sk-toggleable__label {background-color: #d4ebff;}#sk-container-id-1 input.sk-hidden--visually {border: 0;clip: rect(1px 1px 1px 1px);clip: rect(1px, 1px, 1px, 1px);height: 1px;margin: -1px;overflow: hidden;padding: 0;position: absolute;width: 1px;}#sk-container-id-1 div.sk-estimator {font-family: monospace;background-color: #f0f8ff;border: 1px dotted black;border-radius: 0.25em;box-sizing: border-box;margin-bottom: 0.5em;}#sk-container-id-1 div.sk-estimator:hover {background-color: #d4ebff;}#sk-container-id-1 div.sk-parallel-item::after {content: \"\";width: 100%;border-bottom: 1px solid gray;flex-grow: 1;}#sk-container-id-1 div.sk-label:hover label.sk-toggleable__label {background-color: #d4ebff;}#sk-container-id-1 div.sk-serial::before {content: \"\";position: absolute;border-left: 1px solid gray;box-sizing: border-box;top: 0;bottom: 0;left: 50%;z-index: 0;}#sk-container-id-1 div.sk-serial {display: flex;flex-direction: column;align-items: center;background-color: white;padding-right: 0.2em;padding-left: 0.2em;position: relative;}#sk-container-id-1 div.sk-item {position: relative;z-index: 1;}#sk-container-id-1 div.sk-parallel {display: flex;align-items: stretch;justify-content: center;background-color: white;position: relative;}#sk-container-id-1 div.sk-item::before, #sk-container-id-1 div.sk-parallel-item::before {content: \"\";position: absolute;border-left: 1px solid gray;box-sizing: border-box;top: 0;bottom: 0;left: 50%;z-index: -1;}#sk-container-id-1 div.sk-parallel-item {display: flex;flex-direction: column;z-index: 1;position: relative;background-color: white;}#sk-container-id-1 div.sk-parallel-item:first-child::after {align-self: flex-end;width: 50%;}#sk-container-id-1 div.sk-parallel-item:last-child::after {align-self: flex-start;width: 50%;}#sk-container-id-1 div.sk-parallel-item:only-child::after {width: 0;}#sk-container-id-1 div.sk-dashed-wrapped {border: 1px dashed gray;margin: 0 0.4em 0.5em 0.4em;box-sizing: border-box;padding-bottom: 0.4em;background-color: white;}#sk-container-id-1 div.sk-label label {font-family: monospace;font-weight: bold;display: inline-block;line-height: 1.2em;}#sk-container-id-1 div.sk-label-container {text-align: center;}#sk-container-id-1 div.sk-container {/* jupyter's `normalize.less` sets `[hidden] { display: none; }` but bootstrap.min.css set `[hidden] { display: none !important; }` so we also need the `!important` here to be able to override the default hidden behavior on the sphinx rendered scikit-learn.org. See: https://github.com/scikit-learn/scikit-learn/issues/21755 */display: inline-block !important;position: relative;}#sk-container-id-1 div.sk-text-repr-fallback {display: none;}</style><div id=\"sk-container-id-1\" class=\"sk-top-container\"><div class=\"sk-text-repr-fallback\"><pre>GaussianNB()</pre><b>In a Jupyter environment, please rerun this cell to show the HTML representation or trust the notebook. <br />On GitHub, the HTML representation is unable to render, please try loading this page with nbviewer.org.</b></div><div class=\"sk-container\" hidden><div class=\"sk-item\"><div class=\"sk-estimator sk-toggleable\"><input class=\"sk-toggleable__control sk-hidden--visually\" id=\"sk-estimator-id-1\" type=\"checkbox\" checked><label for=\"sk-estimator-id-1\" class=\"sk-toggleable__label sk-toggleable__label-arrow\">GaussianNB</label><div class=\"sk-toggleable__content\"><pre>GaussianNB()</pre></div></div></div></div></div>"
            ]
          },
          "metadata": {},
          "execution_count": 26
        }
      ]
    },
    {
      "cell_type": "code",
      "source": [
        "# Dự đoán trên tập kiểm tra\n",
        "y_pred = model.predict(X_test)"
      ],
      "metadata": {
        "id": "1R09TWCX0RUk"
      },
      "execution_count": null,
      "outputs": []
    },
    {
      "cell_type": "markdown",
      "source": [
        "Tinh Chỉnh Mô Hình"
      ],
      "metadata": {
        "id": "Yz1MSTkuItfq"
      }
    },
    {
      "cell_type": "code",
      "source": [
        "from sklearn.model_selection import GridSearchCV\n",
        "\n",
        "# Define hyperparameters grid for GaussianNB (you can adjust this)\n",
        "param_grid = {\n",
        "    'var_smoothing': [1e-9, 1e-8, 1e-7, 1e-6, 1e-5]\n",
        "}\n",
        "\n",
        "# Create GridSearchCV object\n",
        "grid_search = GridSearchCV(estimator=GaussianNB(), param_grid=param_grid, cv=5)\n",
        "\n",
        "# Fit the grid search to the data\n",
        "grid_search.fit(X_train, y_train)\n",
        "\n",
        "# Get the best parameters\n",
        "best_params = grid_search.best_params_\n",
        "\n",
        "# Use the best model for predictions\n",
        "best_model = grid_search.best_estimator_\n"
      ],
      "metadata": {
        "id": "81U0g0Q2It-L"
      },
      "execution_count": null,
      "outputs": []
    },
    {
      "cell_type": "code",
      "source": [
        "# Dự đoán trên tập kiểm tra sử dụng mô hình tốt nhất từ Grid Search\n",
        "y_pred_best = best_model.predict(X_test)\n",
        "\n",
        "# Đánh giá mô hình sau khi tinh chỉnh\n",
        "accuracy_best = accuracy_score(y_test, y_pred_best)\n",
        "conf_matrix_best = confusion_matrix(y_test, y_pred_best)\n",
        "\n",
        "print(f'Dộ chính xác sau khi tinh chỉnh: {accuracy_best}')\n",
        "\n"
      ],
      "metadata": {
        "colab": {
          "base_uri": "https://localhost:8080/"
        },
        "id": "KXYs0Wv1Ixkw",
        "outputId": "9ba465a6-c3e7-45dc-97c5-8e3b3fa3c0de"
      },
      "execution_count": null,
      "outputs": [
        {
          "output_type": "stream",
          "name": "stdout",
          "text": [
            "Dộ chính xác sau khi tinh chỉnh: 0.7579875137715755\n"
          ]
        }
      ]
    },
    {
      "cell_type": "code",
      "source": [
        "print('Confusion Matrix:')\n",
        "print(conf_matrix_best)"
      ],
      "metadata": {
        "colab": {
          "base_uri": "https://localhost:8080/"
        },
        "id": "sC1vEXlk0Vrz",
        "outputId": "a93e1d34-9e9c-4fa9-c980-20aa76ca6531"
      },
      "execution_count": null,
      "outputs": [
        {
          "output_type": "stream",
          "name": "stdout",
          "text": [
            "Confusion Matrix:\n",
            "[[120   0 108   0  25   0   8]\n",
            " [  0 117   0   0   0   0   0]\n",
            " [ 63   0 242   0  11   0   1]\n",
            " [  0   0   0 554   0  76  41]\n",
            " [ 14   0  20  11 325   0  38]\n",
            " [  3   0   0  78   5 285  42]\n",
            " [  0   0   0  26  43  46 421]]\n"
          ]
        }
      ]
    },
    {
      "cell_type": "code",
      "source": [
        "# Xác định nhãn gán sai\n",
        "misclassified_labels = [i for i in range(len(y_test)) if y_test.iloc[i] != y_pred[i]]"
      ],
      "metadata": {
        "id": "9uN0QfvD0Z9d"
      },
      "execution_count": null,
      "outputs": []
    },
    {
      "cell_type": "code",
      "source": [
        "# In số liệu cụ thể và kết luận loại nào sai nhiều nhất\n",
        "misclassified_counts = pd.Series(y_test.iloc[misclassified_labels]).value_counts()\n",
        "most_misclassified_label = misclassified_counts.idxmax()\n"
      ],
      "metadata": {
        "id": "MBT95Kp-0c1d"
      },
      "execution_count": null,
      "outputs": []
    },
    {
      "cell_type": "code",
      "source": [
        "print('\\nSố liệu nhãn gán sai:')\n",
        "print(misclassified_counts)\n",
        "print(f'\\nLoại gán sai nhiều nhất: {most_misclassified_label}')"
      ],
      "metadata": {
        "colab": {
          "base_uri": "https://localhost:8080/"
        },
        "id": "I_a1Us_u0jdK",
        "outputId": "b01eafe5-3f85-48ef-b82b-39a34ed67d4f"
      },
      "execution_count": null,
      "outputs": [
        {
          "output_type": "stream",
          "name": "stdout",
          "text": [
            "\n",
            "Số liệu nhãn gán sai:\n",
            "BARBUNYA    141\n",
            "SEKER       128\n",
            "DERMASON    117\n",
            "SIRA        115\n",
            "HOROZ        83\n",
            "CALI         75\n",
            "Name: Class, dtype: int64\n",
            "\n",
            "Loại gán sai nhiều nhất: BARBUNYA\n"
          ]
        }
      ]
    },
    {
      "cell_type": "code",
      "source": [
        "# Xác định nhãn gán sai\n",
        "misclassified = np.where(y_test != y_pred)[0]\n",
        "num_misclassified = len(misclassified)\n",
        "\n",
        "# num_misclassified\n",
        "print(\"tổng số lượng hạt đâu sai là \", num_misclassified)"
      ],
      "metadata": {
        "colab": {
          "base_uri": "https://localhost:8080/"
        },
        "id": "qsFarxkFTABu",
        "outputId": "f5f1904f-3252-4884-bc28-40fe7a422ee5"
      },
      "execution_count": null,
      "outputs": [
        {
          "output_type": "stream",
          "name": "stdout",
          "text": [
            "tổng số lượng hạt đâu sai là  659\n"
          ]
        }
      ]
    },
    {
      "cell_type": "code",
      "source": [
        "# Xử lý lại nhãn dán\n",
        "data['Class'] = model.predict(X)\n"
      ],
      "metadata": {
        "id": "BINgtfZw0yOU"
      },
      "execution_count": null,
      "outputs": []
    },
    {
      "cell_type": "code",
      "source": [
        "# Kiểm tra đậu ngoại lai và xử lý\n",
        "outlier_beans = data[~data['Class'].isin(unique_bean_classes)]\n",
        "if len(outlier_beans) == 0:\n",
        "    print('\\nKhông có đậu ngoại lai.')\n",
        "else:\n",
        "    print(f'\\nSố lượng đậu ngoại lai: {len(outlier_beans)}')\n",
        "    # Xử lý đậu ngoại lai, ví dụ: xóa\n",
        "    data = data[data['Class'].isin(unique_bean_classes)]"
      ],
      "metadata": {
        "colab": {
          "base_uri": "https://localhost:8080/"
        },
        "id": "YH7YiPy80zb2",
        "outputId": "dd656329-492b-4c4e-a201-f6c09c571fab"
      },
      "execution_count": null,
      "outputs": [
        {
          "output_type": "stream",
          "name": "stdout",
          "text": [
            "\n",
            "Không có đậu ngoại lai.\n"
          ]
        }
      ]
    },
    {
      "cell_type": "markdown",
      "source": [],
      "metadata": {
        "id": "Ix_q2r-jVSKJ"
      }
    },
    {
      "cell_type": "code",
      "source": [
        "# Đánh giá mô hình sau khi xử lý\n",
        "X_new = data.drop('Class', axis=1)\n",
        "y_new = data['Class']\n",
        "y_pred_new = model.predict(X_new)\n",
        "accuracy_after = accuracy_score(y_new, y_pred_new)\n",
        "print(f'\\nDộ chính xác sau khi xử lý: {accuracy_after}')\n"
      ],
      "metadata": {
        "colab": {
          "base_uri": "https://localhost:8080/"
        },
        "id": "f9Env0J11wmy",
        "outputId": "af754f0e-2b81-4fda-833d-cceb66f7d256"
      },
      "execution_count": null,
      "outputs": [
        {
          "output_type": "stream",
          "name": "stdout",
          "text": [
            "\n",
            "Dộ chính xác sau khi xử lý: 1.0\n"
          ]
        }
      ]
    },
    {
      "cell_type": "code",
      "source": [
        "# Đánh giá mô hình xác thực chéo\n",
        "cross_val_scores = cross_val_score(model, X, y, cv=10)\n",
        "\n",
        "print('\\nĐánh giá mô hình xác thực chéo:')\n",
        "print(cross_val_scores)\n",
        "print(f'Mean Accuracy: {cross_val_scores.mean()}')"
      ],
      "metadata": {
        "colab": {
          "base_uri": "https://localhost:8080/"
        },
        "id": "MdCrr_fX03eF",
        "outputId": "ac7816ba-00b2-4384-ca04-30d0240ad9db"
      },
      "execution_count": null,
      "outputs": [
        {
          "output_type": "stream",
          "name": "stdout",
          "text": [
            "\n",
            "Đánh giá mô hình xác thực chéo:\n",
            "[0.30396476 0.52681852 0.91623806 0.99338722 0.98897869 0.94562821\n",
            " 0.92064658 0.87876561 0.58265981 0.18515797]\n",
            "Mean Accuracy: 0.7242245433682799\n"
          ]
        }
      ]
    }
  ]
}